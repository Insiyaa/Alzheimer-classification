{
 "cells": [
  {
   "cell_type": "code",
   "execution_count": 4,
   "metadata": {
    "colab": {
     "base_uri": "https://localhost:8080/",
     "height": 332
    },
    "colab_type": "code",
    "executionInfo": {
     "elapsed": 165502,
     "status": "ok",
     "timestamp": 1536938857160,
     "user": {
      "displayName": "insiyah hajoori",
      "photoUrl": "//lh3.googleusercontent.com/-BW_vuk2VOCw/AAAAAAAAAAI/AAAAAAAAJoE/GwFa0zEiBvQ/s50-c-k-no/photo.jpg",
      "userId": "112067108065537572212"
     },
     "user_tz": -330
    },
    "id": "7QKInneWrw2c",
    "outputId": "2f5b47df-3b21-4079-c87c-6245c7c5a1d4"
   },
   "outputs": [
    {
     "name": "stdout",
     "output_type": "stream",
     "text": [
      "Collecting torch\n",
      "\u001b[?25l  Downloading https://files.pythonhosted.org/packages/49/0e/e382bcf1a6ae8225f50b99cc26effa2d4cc6d66975ccf3fa9590efcbedce/torch-0.4.1-cp36-cp36m-manylinux1_x86_64.whl (519.5MB)\n",
      "\u001b[K    100% |████████████████████████████████| 519.5MB 31kB/s \n",
      "tcmalloc: large alloc 1073750016 bytes == 0x58c3a000 @  0x7f1c5a7511c4 0x46d6a4 0x5fcbcc 0x4c494d 0x54f3c4 0x553aaf 0x54e4c8 0x54f4f6 0x553aaf 0x54efc1 0x54f24d 0x553aaf 0x54efc1 0x54f24d 0x553aaf 0x54efc1 0x54f24d 0x551ee0 0x54e4c8 0x54f4f6 0x553aaf 0x54efc1 0x54f24d 0x551ee0 0x54efc1 0x54f24d 0x551ee0 0x54e4c8 0x54f4f6 0x553aaf 0x54e4c8\n",
      "\u001b[?25hCollecting torchvision\n",
      "\u001b[?25l  Downloading https://files.pythonhosted.org/packages/ca/0d/f00b2885711e08bd71242ebe7b96561e6f6d01fdb4b9dcf4d37e2e13c5e1/torchvision-0.2.1-py2.py3-none-any.whl (54kB)\n",
      "\u001b[K    100% |████████████████████████████████| 61kB 22.2MB/s \n",
      "\u001b[?25hCollecting pillow>=4.1.1 (from torchvision)\n",
      "\u001b[?25l  Downloading https://files.pythonhosted.org/packages/d1/24/f53ff6b61b3d728b90934bddb4f03f8ab584a7f49299bf3bde56e2952612/Pillow-5.2.0-cp36-cp36m-manylinux1_x86_64.whl (2.0MB)\n",
      "\u001b[K    100% |████████████████████████████████| 2.0MB 3.8MB/s \n",
      "\u001b[?25hRequirement already satisfied: six in /usr/local/lib/python3.6/dist-packages (from torchvision) (1.11.0)\n",
      "Requirement already satisfied: numpy in /usr/local/lib/python3.6/dist-packages (from torchvision) (1.14.5)\n",
      "Installing collected packages: torch, pillow, torchvision\n",
      "  Found existing installation: Pillow 4.0.0\n",
      "    Uninstalling Pillow-4.0.0:\n",
      "      Successfully uninstalled Pillow-4.0.0\n",
      "Successfully installed pillow-5.2.0 torch-0.4.1 torchvision-0.2.1\n"
     ]
    }
   ],
   "source": [
    "# !pip3 install torch torchvision"
   ]
  },
  {
   "cell_type": "code",
   "execution_count": 0,
   "metadata": {
    "colab": {},
    "colab_type": "code",
    "id": "f_I74BA-FyuY"
   },
   "outputs": [],
   "source": [
    "import torch\n",
    "import torch.nn as nn\n",
    "import torchvision.transforms as transforms\n",
    "import torchvision.datasets as dsets\n",
    "from torch.autograd import  Variable"
   ]
  },
  {
   "cell_type": "code",
   "execution_count": 0,
   "metadata": {
    "colab": {},
    "colab_type": "code",
    "id": "9QNmGYolGm5F"
   },
   "outputs": [],
   "source": [
    "# Input -> logits -> non-linear-op -> logits -> softmax -> labels"
   ]
  },
  {
   "cell_type": "code",
   "execution_count": 0,
   "metadata": {
    "colab": {},
    "colab_type": "code",
    "id": "Rsr--kt2HC2K"
   },
   "outputs": [],
   "source": [
    "# Model A --- using sigmoid"
   ]
  },
  {
   "cell_type": "code",
   "execution_count": 0,
   "metadata": {
    "colab": {},
    "colab_type": "code",
    "id": "Xy4OU5wjH8l2"
   },
   "outputs": [],
   "source": [
    "# Load dataset\n",
    "# Make dataset iterable\n",
    "# create model class\n",
    "# Instantiate model class\n",
    "# Instantiate loss class\n",
    "# Instantiate optimizer class\n",
    "# Train model"
   ]
  },
  {
   "cell_type": "code",
   "execution_count": 9,
   "metadata": {
    "colab": {
     "base_uri": "https://localhost:8080/",
     "height": 121
    },
    "colab_type": "code",
    "executionInfo": {
     "elapsed": 93578,
     "status": "ok",
     "timestamp": 1536938965625,
     "user": {
      "displayName": "insiyah hajoori",
      "photoUrl": "//lh3.googleusercontent.com/-BW_vuk2VOCw/AAAAAAAAAAI/AAAAAAAAJoE/GwFa0zEiBvQ/s50-c-k-no/photo.jpg",
      "userId": "112067108065537572212"
     },
     "user_tz": -330
    },
    "id": "NVaAucVxIlXq",
    "outputId": "221282a9-fc57-40ea-aff2-6398c6e1bd40"
   },
   "outputs": [
    {
     "name": "stdout",
     "output_type": "stream",
     "text": [
      "Downloading http://yann.lecun.com/exdb/mnist/train-images-idx3-ubyte.gz\n",
      "Downloading http://yann.lecun.com/exdb/mnist/train-labels-idx1-ubyte.gz\n",
      "Downloading http://yann.lecun.com/exdb/mnist/t10k-images-idx3-ubyte.gz\n",
      "Downloading http://yann.lecun.com/exdb/mnist/t10k-labels-idx1-ubyte.gz\n",
      "Processing...\n",
      "Done!\n"
     ]
    }
   ],
   "source": [
    "# Load dataset\n",
    "train_dataset = dsets.MNIST(root='./data', train=True, transform=transforms.ToTensor(), download=True)\n",
    "test_dataset = dsets.MNIST(root='./data', train=False, transform=transforms.ToTensor(), download=True)"
   ]
  },
  {
   "cell_type": "code",
   "execution_count": 0,
   "metadata": {
    "colab": {},
    "colab_type": "code",
    "id": "cO_4E5sSIQ34"
   },
   "outputs": [],
   "source": [
    "# Make dataset iterable\n",
    "\n",
    "\n",
    "batch_size = 100\n",
    "n_iters = 3000\n",
    "num_epochs = int(n_iters / (len(train_dataset)/batch_size))\n",
    "\n",
    "train_loader = torch.utils.data.DataLoader(dataset=train_dataset, batch_size=batch_size, shuffle=True)\n",
    "test_loader = torch.utils.data.DataLoader(dataset=test_dataset, batch_size=batch_size, shuffle=False)"
   ]
  },
  {
   "cell_type": "code",
   "execution_count": 0,
   "metadata": {
    "colab": {},
    "colab_type": "code",
    "id": "UV6HbZ8FJZSo"
   },
   "outputs": [],
   "source": [
    "# Create Model Class\n",
    "class NeuralNet(nn.Module):\n",
    "  def __init__(self, imput_dim, hidden_size, num_classes):\n",
    "    super(NeuralNet, self).__init__()\n",
    "    # Linear function\n",
    "    self.fc1 = nn.Linear(input_dim, hidden_dim)\n",
    "    # Non-linear\n",
    "    self.sigmoid = nn.Sigmoid() #######Change to tanh or relu\n",
    "    # Linear function\n",
    "    self.fc2 = nn.Linear(hidden_dim, output_dim)\n",
    "    \n",
    "  def forward(self, x):\n",
    "    # Linear\n",
    "    out = self.fc1(x)\n",
    "    # Non-Linear\n",
    "    out = self.sigmoid(out)  #########Change to tanh or relu\n",
    "    # Linear\n",
    "    out = self.fc2(out)\n",
    "    return out"
   ]
  },
  {
   "cell_type": "code",
   "execution_count": 0,
   "metadata": {
    "colab": {},
    "colab_type": "code",
    "id": "HvoslU0Trsfj"
   },
   "outputs": [],
   "source": [
    "# Input dim = 784 (28 * 28)\n",
    "# Output dim = 10\n",
    "# Hidden dim = 100 "
   ]
  },
  {
   "cell_type": "code",
   "execution_count": 0,
   "metadata": {
    "colab": {},
    "colab_type": "code",
    "id": "TpdVGb4ssTyL"
   },
   "outputs": [],
   "source": [
    "input_dim = 28 * 28\n",
    "output_dim = 10\n",
    "hidden_dim = 100 \n",
    "\n",
    "model = NeuralNet(input_dim, hidden_dim, output_dim)"
   ]
  },
  {
   "cell_type": "code",
   "execution_count": 0,
   "metadata": {
    "colab": {},
    "colab_type": "code",
    "id": "IL4hZIumsaPl"
   },
   "outputs": [],
   "source": [
    "# Instantiate Loss Class\n",
    "\n",
    "criterion = nn.CrossEntropyLoss()"
   ]
  },
  {
   "cell_type": "code",
   "execution_count": 0,
   "metadata": {
    "colab": {},
    "colab_type": "code",
    "id": "WZgflA1Zs2yx"
   },
   "outputs": [],
   "source": [
    "# Instantiate Optimizer Class\n",
    "\n",
    "learning_rate = 0.1\n",
    "optimizer = torch.optim.SGD(model.parameters(), lr=learning_rate)"
   ]
  },
  {
   "cell_type": "code",
   "execution_count": 29,
   "metadata": {
    "colab": {
     "base_uri": "https://localhost:8080/",
     "height": 34
    },
    "colab_type": "code",
    "executionInfo": {
     "elapsed": 1038,
     "status": "ok",
     "timestamp": 1536939470025,
     "user": {
      "displayName": "insiyah hajoori",
      "photoUrl": "//lh3.googleusercontent.com/-BW_vuk2VOCw/AAAAAAAAAAI/AAAAAAAAJoE/GwFa0zEiBvQ/s50-c-k-no/photo.jpg",
      "userId": "112067108065537572212"
     },
     "user_tz": -330
    },
    "id": "OTiAzobGtJh6",
    "outputId": "d6b15f3a-5e6a-42e8-c3ab-b19e4eb479c4"
   },
   "outputs": [
    {
     "name": "stdout",
     "output_type": "stream",
     "text": [
      "<generator object Module.parameters at 0x7fdad7851048>\n"
     ]
    }
   ],
   "source": [
    "print(model.parameters())\n",
    "\n",
    "# You can take deeper look inside this to know dimensions"
   ]
  },
  {
   "cell_type": "code",
   "execution_count": 0,
   "metadata": {
    "colab": {},
    "colab_type": "code",
    "id": "946YunwXtSjK"
   },
   "outputs": [],
   "source": [
    "# Train the model\n",
    "\n",
    "# Convert input/labels to Variables\n",
    "# Clear gradient buffers\n",
    "# Get output given the inputs\n",
    "# Get loss\n",
    "# Get gradients w.r.t parameters\n",
    "# Update parameters using the gradients\n",
    "# Repeat"
   ]
  },
  {
   "cell_type": "code",
   "execution_count": 31,
   "metadata": {
    "colab": {
     "base_uri": "https://localhost:8080/",
     "height": 159
    },
    "colab_type": "code",
    "executionInfo": {
     "elapsed": 39609,
     "status": "ok",
     "timestamp": 1536939511302,
     "user": {
      "displayName": "insiyah hajoori",
      "photoUrl": "//lh3.googleusercontent.com/-BW_vuk2VOCw/AAAAAAAAAAI/AAAAAAAAJoE/GwFa0zEiBvQ/s50-c-k-no/photo.jpg",
      "userId": "112067108065537572212"
     },
     "user_tz": -330
    },
    "id": "f8uvU8cHt6K3",
    "outputId": "70c3fa02-394f-41e2-dcd5-167625ed27ab"
   },
   "outputs": [
    {
     "name": "stderr",
     "output_type": "stream",
     "text": [
      "/usr/local/lib/python3.6/dist-packages/ipykernel_launcher.py:42: UserWarning: invalid index of a 0-dim tensor. This will be an error in PyTorch 0.5. Use tensor.item() to convert a 0-dim tensor to a Python number\n"
     ]
    },
    {
     "name": "stdout",
     "output_type": "stream",
     "text": [
      "Iteration: 500, Loss: 0.5379995703697205, Accuracy:85.98\n",
      "Iteration: 1000, Loss: 0.5646951794624329, Accuracy:89.46\n",
      "Iteration: 1500, Loss: 0.46769943833351135, Accuracy:90.49\n",
      "Iteration: 2000, Loss: 0.2745473384857178, Accuracy:91.34\n",
      "Iteration: 2500, Loss: 0.3323560059070587, Accuracy:91.77\n",
      "Iteration: 3000, Loss: 0.3276492953300476, Accuracy:92.0\n"
     ]
    }
   ],
   "source": [
    "import time\n",
    "tick = time.time()\n",
    "\n",
    "iter = 0\n",
    "for epoch in range(num_epochs):\n",
    "  for i, (images, labels) in enumerate(train_loader):\n",
    "    \n",
    "    \n",
    "    images = Variable(images.view(-1, 28*28))\n",
    "    labels = Variable(labels)\n",
    "    \n",
    "    optimizer.zero_grad()\n",
    "    \n",
    "    outputs = model(images)\n",
    "    \n",
    "    loss = criterion(outputs, labels)\n",
    "    \n",
    "    loss.backward()\n",
    "    \n",
    "    optimizer.step()\n",
    "    \n",
    "    iter += 1\n",
    "    \n",
    "    if iter % 500 == 0:\n",
    "      correct = 0\n",
    "      total = 0\n",
    "      \n",
    "      for images, labels in test_loader:\n",
    "        \n",
    "        images = Variable(images.view(-1,28*28))\n",
    "        \n",
    "        outputs = model(images)\n",
    "        \n",
    "        _, predicted = torch.max(outputs.data, 1)\n",
    "        \n",
    "        total += labels.size(0)\n",
    "        \n",
    "        correct += (predicted == labels).sum().item()\n",
    "        \n",
    "      accuracy = 100 * correct / total\n",
    "      \n",
    "      print('Iteration: {}, Loss: {}, Accuracy:{}'.format(iter, loss.data[0], accuracy))\n",
    "    \n",
    "tock = time.time()    "
   ]
  },
  {
   "cell_type": "code",
   "execution_count": 32,
   "metadata": {
    "colab": {
     "base_uri": "https://localhost:8080/",
     "height": 34
    },
    "colab_type": "code",
    "executionInfo": {
     "elapsed": 1185,
     "status": "ok",
     "timestamp": 1536939512590,
     "user": {
      "displayName": "insiyah hajoori",
      "photoUrl": "//lh3.googleusercontent.com/-BW_vuk2VOCw/AAAAAAAAAAI/AAAAAAAAJoE/GwFa0zEiBvQ/s50-c-k-no/photo.jpg",
      "userId": "112067108065537572212"
     },
     "user_tz": -330
    },
    "id": "AQkhjOT9ucIj",
    "outputId": "632aaf98-6e3d-41d0-a547-20e07ab1bbe9"
   },
   "outputs": [
    {
     "name": "stdout",
     "output_type": "stream",
     "text": [
      "Time required is 38.162580251693726\n"
     ]
    }
   ],
   "source": [
    "print('Time required is', tock - tick)"
   ]
  },
  {
   "cell_type": "code",
   "execution_count": 33,
   "metadata": {
    "colab": {
     "base_uri": "https://localhost:8080/",
     "height": 176
    },
    "colab_type": "code",
    "executionInfo": {
     "elapsed": 40818,
     "status": "ok",
     "timestamp": 1536941737496,
     "user": {
      "displayName": "insiyah hajoori",
      "photoUrl": "//lh3.googleusercontent.com/-BW_vuk2VOCw/AAAAAAAAAAI/AAAAAAAAJoE/GwFa0zEiBvQ/s50-c-k-no/photo.jpg",
      "userId": "112067108065537572212"
     },
     "user_tz": -330
    },
    "id": "55o23e8Qupud",
    "outputId": "9d5f7b49-8f9a-45ae-9f0c-e557ca590e8b"
   },
   "outputs": [
    {
     "name": "stderr",
     "output_type": "stream",
     "text": [
      "/usr/local/lib/python3.6/dist-packages/ipykernel_launcher.py:104: UserWarning: invalid index of a 0-dim tensor. This will be an error in PyTorch 0.5. Use tensor.item() to convert a 0-dim tensor to a Python number\n"
     ]
    },
    {
     "name": "stdout",
     "output_type": "stream",
     "text": [
      "Iteration: 500, Loss: 0.24649585783481598, Accuracy:91.31\n",
      "Iteration: 1000, Loss: 0.19562092423439026, Accuracy:93.56\n",
      "Iteration: 1500, Loss: 0.10945136100053787, Accuracy:94.78\n",
      "Iteration: 2000, Loss: 0.06797201186418533, Accuracy:95.83\n",
      "Iteration: 2500, Loss: 0.17853721976280212, Accuracy:95.71\n",
      "Iteration: 3000, Loss: 0.11179687827825546, Accuracy:96.41\n",
      "Time required is 39.71420097351074\n"
     ]
    }
   ],
   "source": [
    "# 2 Layer NN\n",
    "\n",
    "# Create Model Class\n",
    "class NeuralNet(nn.Module):\n",
    "  def __init__(self, imput_dim, hidden_size, num_classes):\n",
    "    super(NeuralNet, self).__init__()\n",
    "    \n",
    "    # Linear function 1\n",
    "    self.fc1 = nn.Linear(input_dim, hidden_dim)\n",
    "    # Non-linear 1\n",
    "    self.relu1 = nn.ReLU() \n",
    "    \n",
    "    # Linear function 2\n",
    "    self.fc2 = nn.Linear(hidden_dim, hidden_dim)\n",
    "    # Non-Linear 2\n",
    "    self.relu2 = nn.ReLU() \n",
    "    \n",
    "    # Linear function 3 (readout)\n",
    "    self.fc3 = nn.Linear(hidden_dim, output_dim)\n",
    "    \n",
    "  def forward(self, x):\n",
    "    # Linear 1\n",
    "    out = self.fc1(x)\n",
    "    # Non-Linear 1\n",
    "    out = self.relu1(out) \n",
    "    \n",
    "    # Linear 2\n",
    "    out = self.fc2(out)\n",
    "    # Non-Linear 2\n",
    "    out = self.relu2(out) \n",
    "    \n",
    "    #Linear 3 (readout)\n",
    "    out = self.fc3(out)\n",
    "    \n",
    "    return out\n",
    "\n",
    "# Input dim = 784 (28 * 28)\n",
    "# Output dim = 10\n",
    "# Hidden dim = 100 \n",
    "\n",
    "input_dim = 28 * 28\n",
    "output_dim = 10\n",
    "hidden_dim = 100 \n",
    "\n",
    "model = NeuralNet(input_dim, hidden_dim, output_dim)\n",
    "\n",
    "# Instantiate Loss Class\n",
    "\n",
    "criterion = nn.CrossEntropyLoss()\n",
    "\n",
    "# Instantiate Optimizer Class\n",
    "\n",
    "learning_rate = 0.1\n",
    "optimizer = torch.optim.SGD(model.parameters(), lr=learning_rate)\n",
    "\n",
    "# Train the model\n",
    "\n",
    "# Convert input/labels to Variables\n",
    "# Clear gradient buffers\n",
    "# Get output given the inputs\n",
    "# Get loss\n",
    "# Get gradients w.r.t parameters\n",
    "# Update parameters using the gradients\n",
    "# Repeat\n",
    "\n",
    "import time\n",
    "tick = time.time()\n",
    "\n",
    "iter = 0\n",
    "for epoch in range(num_epochs):\n",
    "  for i, (images, labels) in enumerate(train_loader):\n",
    "    \n",
    "    \n",
    "    images = Variable(images.view(-1, 28*28))\n",
    "    labels = Variable(labels)\n",
    "    \n",
    "    optimizer.zero_grad()\n",
    "    \n",
    "    outputs = model(images)\n",
    "    \n",
    "    loss = criterion(outputs, labels)\n",
    "    \n",
    "    loss.backward()\n",
    "    \n",
    "    optimizer.step()\n",
    "    \n",
    "    iter += 1\n",
    "    \n",
    "    if iter % 500 == 0:\n",
    "      correct = 0\n",
    "      total = 0\n",
    "      \n",
    "      for images, labels in test_loader:\n",
    "        \n",
    "        images = Variable(images.view(-1,28*28))\n",
    "        \n",
    "        outputs = model(images)\n",
    "        \n",
    "        _, predicted = torch.max(outputs.data, 1)\n",
    "        \n",
    "        total += labels.size(0)\n",
    "        \n",
    "        correct += (predicted == labels).sum().item()\n",
    "        \n",
    "      accuracy = 100 * correct / total\n",
    "      \n",
    "      print('Iteration: {}, Loss: {}, Accuracy:{}'.format(iter, loss.data[0], accuracy))\n",
    "    \n",
    "tock = time.time()    \n",
    "\n",
    "print('Time required is', tock - tick)"
   ]
  },
  {
   "cell_type": "code",
   "execution_count": 34,
   "metadata": {
    "colab": {
     "base_uri": "https://localhost:8080/",
     "height": 176
    },
    "colab_type": "code",
    "executionInfo": {
     "elapsed": 42091,
     "status": "ok",
     "timestamp": 1536941936305,
     "user": {
      "displayName": "insiyah hajoori",
      "photoUrl": "//lh3.googleusercontent.com/-BW_vuk2VOCw/AAAAAAAAAAI/AAAAAAAAJoE/GwFa0zEiBvQ/s50-c-k-no/photo.jpg",
      "userId": "112067108065537572212"
     },
     "user_tz": -330
    },
    "id": "oiq-V0Ac3SXx",
    "outputId": "cd620bfb-b766-4ff1-c7eb-8020a5aed546"
   },
   "outputs": [
    {
     "name": "stderr",
     "output_type": "stream",
     "text": [
      "/usr/local/lib/python3.6/dist-packages/ipykernel_launcher.py:114: UserWarning: invalid index of a 0-dim tensor. This will be an error in PyTorch 0.5. Use tensor.item() to convert a 0-dim tensor to a Python number\n"
     ]
    },
    {
     "name": "stdout",
     "output_type": "stream",
     "text": [
      "Iteration: 500, Loss: 0.28217756748199463, Accuracy:90.66\n",
      "Iteration: 1000, Loss: 0.20606881380081177, Accuracy:93.82\n",
      "Iteration: 1500, Loss: 0.2810133099555969, Accuracy:95.27\n",
      "Iteration: 2000, Loss: 0.20160506665706635, Accuracy:95.56\n",
      "Iteration: 2500, Loss: 0.11775699257850647, Accuracy:96.4\n",
      "Iteration: 3000, Loss: 0.03204762563109398, Accuracy:96.98\n",
      "Time required is 40.914836406707764\n"
     ]
    }
   ],
   "source": [
    "# 3 Layer NN\n",
    "\n",
    "# Create Model Class\n",
    "class NeuralNet(nn.Module):\n",
    "  def __init__(self, imput_dim, hidden_size, num_classes):\n",
    "    super(NeuralNet, self).__init__()\n",
    "    \n",
    "    # Linear function 1\n",
    "    self.fc1 = nn.Linear(input_dim, hidden_dim)\n",
    "    # Non-linear 1\n",
    "    self.relu1 = nn.ReLU() \n",
    "    \n",
    "    # Linear function 2\n",
    "    self.fc2 = nn.Linear(hidden_dim, hidden_dim)\n",
    "    # Non-Linear 2\n",
    "    self.relu2 = nn.ReLU() \n",
    "    \n",
    "    # Linear function 3\n",
    "    self.fc3 = nn.Linear(hidden_dim, hidden_dim)\n",
    "    # Non-Linear 2\n",
    "    self.relu3 = nn.ReLU() \n",
    "    \n",
    "    # Linear function 4 (readout)\n",
    "    self.fc4 = nn.Linear(hidden_dim, output_dim)\n",
    "    \n",
    "  def forward(self, x):\n",
    "    # Linear 1\n",
    "    out = self.fc1(x)\n",
    "    # Non-Linear 1\n",
    "    out = self.relu1(out) \n",
    "    \n",
    "    # Linear 2\n",
    "    out = self.fc2(out)\n",
    "    # Non-Linear 2\n",
    "    out = self.relu2(out) \n",
    "    \n",
    "    # Linear 3\n",
    "    out = self.fc3(out)\n",
    "    # Non-Linear 3\n",
    "    out = self.relu3(out)\n",
    "    \n",
    "    #Linear 4 (readout)\n",
    "    out = self.fc4(out)\n",
    "    \n",
    "    return out\n",
    "\n",
    "# Input dim = 784 (28 * 28)\n",
    "# Output dim = 10\n",
    "# Hidden dim = 100 \n",
    "\n",
    "input_dim = 28 * 28\n",
    "output_dim = 10\n",
    "hidden_dim = 100 \n",
    "\n",
    "model = NeuralNet(input_dim, hidden_dim, output_dim)\n",
    "\n",
    "# Instantiate Loss Class\n",
    "\n",
    "criterion = nn.CrossEntropyLoss()\n",
    "\n",
    "# Instantiate Optimizer Class\n",
    "\n",
    "learning_rate = 0.1\n",
    "optimizer = torch.optim.SGD(model.parameters(), lr=learning_rate)\n",
    "\n",
    "# Train the model\n",
    "\n",
    "# Convert input/labels to Variables\n",
    "# Clear gradient buffers\n",
    "# Get output given the inputs\n",
    "# Get loss\n",
    "# Get gradients w.r.t parameters\n",
    "# Update parameters using the gradients\n",
    "# Repeat\n",
    "\n",
    "import time\n",
    "tick = time.time()\n",
    "\n",
    "iter = 0\n",
    "for epoch in range(num_epochs):\n",
    "  for i, (images, labels) in enumerate(train_loader):\n",
    "    \n",
    "    \n",
    "    images = Variable(images.view(-1, 28*28))\n",
    "    labels = Variable(labels)\n",
    "    \n",
    "    optimizer.zero_grad()\n",
    "    \n",
    "    outputs = model(images)\n",
    "    \n",
    "    loss = criterion(outputs, labels)\n",
    "    \n",
    "    loss.backward()\n",
    "    \n",
    "    optimizer.step()\n",
    "    \n",
    "    iter += 1\n",
    "    \n",
    "    if iter % 500 == 0:\n",
    "      correct = 0\n",
    "      total = 0\n",
    "      \n",
    "      for images, labels in test_loader:\n",
    "        \n",
    "        images = Variable(images.view(-1,28*28))\n",
    "        \n",
    "        outputs = model(images)\n",
    "        \n",
    "        _, predicted = torch.max(outputs.data, 1)\n",
    "        \n",
    "        total += labels.size(0)\n",
    "        \n",
    "        correct += (predicted == labels).sum().item()\n",
    "        \n",
    "      accuracy = 100 * correct / total\n",
    "      \n",
    "      print('Iteration: {}, Loss: {}, Accuracy:{}'.format(iter, loss.data[0], accuracy))\n",
    "    \n",
    "tock = time.time()    \n",
    "\n",
    "print('Time required is', tock - tick)"
   ]
  },
  {
   "cell_type": "code",
   "execution_count": 0,
   "metadata": {
    "colab": {},
    "colab_type": "code",
    "id": "koItMi1F4CjU"
   },
   "outputs": [],
   "source": [
    "# NN on GPU"
   ]
  },
  {
   "cell_type": "code",
   "execution_count": 36,
   "metadata": {
    "colab": {
     "base_uri": "https://localhost:8080/",
     "height": 176
    },
    "colab_type": "code",
    "executionInfo": {
     "elapsed": 47479,
     "status": "ok",
     "timestamp": 1536942176255,
     "user": {
      "displayName": "insiyah hajoori",
      "photoUrl": "//lh3.googleusercontent.com/-BW_vuk2VOCw/AAAAAAAAAAI/AAAAAAAAJoE/GwFa0zEiBvQ/s50-c-k-no/photo.jpg",
      "userId": "112067108065537572212"
     },
     "user_tz": -330
    },
    "id": "0x6aHcuX4ZaF",
    "outputId": "61bd1d2e-2d00-47a8-b55e-16cbdb466a2b"
   },
   "outputs": [
    {
     "name": "stderr",
     "output_type": "stream",
     "text": [
      "/usr/local/lib/python3.6/dist-packages/ipykernel_launcher.py:115: UserWarning: invalid index of a 0-dim tensor. This will be an error in PyTorch 0.5. Use tensor.item() to convert a 0-dim tensor to a Python number\n"
     ]
    },
    {
     "name": "stdout",
     "output_type": "stream",
     "text": [
      "Iteration: 500, Loss: 0.3420164883136749, Accuracy:89.59\n",
      "Iteration: 1000, Loss: 0.15970270335674286, Accuracy:94.39\n",
      "Iteration: 1500, Loss: 0.24343451857566833, Accuracy:95.01\n",
      "Iteration: 2000, Loss: 0.055785685777664185, Accuracy:96.16\n",
      "Iteration: 2500, Loss: 0.03965865448117256, Accuracy:97.13\n",
      "Iteration: 3000, Loss: 0.06957100331783295, Accuracy:97.13\n",
      "Time required is 43.638954877853394\n"
     ]
    }
   ],
   "source": [
    "# 3 Layer NN\n",
    "\n",
    "# Create Model Class\n",
    "class NeuralNet(nn.Module):\n",
    "  def __init__(self, imput_dim, hidden_size, num_classes):\n",
    "    super(NeuralNet, self).__init__()\n",
    "    \n",
    "    # Linear function 1\n",
    "    self.fc1 = nn.Linear(input_dim, hidden_dim)\n",
    "    # Non-linear 1\n",
    "    self.relu1 = nn.ReLU() \n",
    "    \n",
    "    # Linear function 2\n",
    "    self.fc2 = nn.Linear(hidden_dim, hidden_dim)\n",
    "    # Non-Linear 2\n",
    "    self.relu2 = nn.ReLU() \n",
    "    \n",
    "    # Linear function 3\n",
    "    self.fc3 = nn.Linear(hidden_dim, hidden_dim)\n",
    "    # Non-Linear 2\n",
    "    self.relu3 = nn.ReLU() \n",
    "    \n",
    "    # Linear function 4 (readout)\n",
    "    self.fc4 = nn.Linear(hidden_dim, output_dim)\n",
    "    \n",
    "  def forward(self, x):\n",
    "    # Linear 1\n",
    "    out = self.fc1(x)\n",
    "    # Non-Linear 1\n",
    "    out = self.relu1(out) \n",
    "    \n",
    "    # Linear 2\n",
    "    out = self.fc2(out)\n",
    "    # Non-Linear 2\n",
    "    out = self.relu2(out) \n",
    "    \n",
    "    # Linear 3\n",
    "    out = self.fc3(out)\n",
    "    # Non-Linear 3\n",
    "    out = self.relu3(out)\n",
    "    \n",
    "    #Linear 4 (readout)\n",
    "    out = self.fc4(out)\n",
    "    \n",
    "    return out\n",
    "\n",
    "# Input dim = 784 (28 * 28)\n",
    "# Output dim = 10\n",
    "# Hidden dim = 100 \n",
    "\n",
    "input_dim = 28 * 28\n",
    "output_dim = 10\n",
    "hidden_dim = 100 \n",
    "\n",
    "model = NeuralNet(input_dim, hidden_dim, output_dim)\n",
    "model.cuda() ###########\n",
    "\n",
    "# Instantiate Loss Class\n",
    "\n",
    "criterion = nn.CrossEntropyLoss()\n",
    "\n",
    "# Instantiate Optimizer Class\n",
    "\n",
    "learning_rate = 0.1\n",
    "optimizer = torch.optim.SGD(model.parameters(), lr=learning_rate)\n",
    "\n",
    "# Train the model\n",
    "\n",
    "# Convert input/labels to Variables\n",
    "# Clear gradient buffers\n",
    "# Get output given the inputs\n",
    "# Get loss\n",
    "# Get gradients w.r.t parameters\n",
    "# Update parameters using the gradients\n",
    "# Repeat\n",
    "\n",
    "import time\n",
    "tick = time.time()\n",
    "\n",
    "iter = 0\n",
    "for epoch in range(num_epochs):\n",
    "  for i, (images, labels) in enumerate(train_loader):\n",
    "    \n",
    "    \n",
    "    images = Variable(images.view(-1, 28*28).cuda()) ########\n",
    "    labels = Variable(labels.cuda()) ########\n",
    "    \n",
    "    optimizer.zero_grad()\n",
    "    \n",
    "    outputs = model(images)\n",
    "    \n",
    "    loss = criterion(outputs, labels)\n",
    "    \n",
    "    loss.backward()\n",
    "    \n",
    "    optimizer.step()\n",
    "    \n",
    "    iter += 1\n",
    "    \n",
    "    if iter % 500 == 0:\n",
    "      correct = 0\n",
    "      total = 0\n",
    "      \n",
    "      for images, labels in test_loader:\n",
    "        \n",
    "        images = Variable(images.view(-1,28*28).cuda()) #######\n",
    "        \n",
    "        outputs = model(images)\n",
    "        \n",
    "        _, predicted = torch.max(outputs.data, 1)\n",
    "        \n",
    "        total += labels.size(0)\n",
    "        \n",
    "        correct += ((predicted.cpu()) == (labels.cpu())).sum().item()\n",
    "        \n",
    "      accuracy = 100 * correct / total\n",
    "      \n",
    "      print('Iteration: {}, Loss: {}, Accuracy:{}'.format(iter, loss.data[0], accuracy))\n",
    "    \n",
    "tock = time.time()    \n",
    "\n",
    "print('Time required is', tock - tick)"
   ]
  },
  {
   "cell_type": "code",
   "execution_count": 0,
   "metadata": {
    "colab": {},
    "colab_type": "code",
    "id": "nl8q5puF473u"
   },
   "outputs": [],
   "source": [
    " "
   ]
  }
 ],
 "metadata": {
  "accelerator": "GPU",
  "colab": {
   "name": "neuralNetwork.ipynb",
   "provenance": [],
   "version": "0.3.2"
  },
  "kernelspec": {
   "display_name": "Python 3",
   "language": "python",
   "name": "python3"
  },
  "language_info": {
   "codemirror_mode": {
    "name": "ipython",
    "version": 3
   },
   "file_extension": ".py",
   "mimetype": "text/x-python",
   "name": "python",
   "nbconvert_exporter": "python",
   "pygments_lexer": "ipython3",
   "version": "3.6.5"
  }
 },
 "nbformat": 4,
 "nbformat_minor": 1
}
