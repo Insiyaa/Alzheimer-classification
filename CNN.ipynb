{
  "nbformat": 4,
  "nbformat_minor": 0,
  "metadata": {
    "colab": {
      "name": "CNN.ipynb",
      "version": "0.3.2",
      "provenance": [],
      "collapsed_sections": []
    },
    "kernelspec": {
      "name": "python3",
      "display_name": "Python 3"
    },
    "accelerator": "GPU"
  },
  "cells": [
    {
      "metadata": {
        "id": "yrUIr58yTaIX",
        "colab_type": "code",
        "colab": {
          "base_uri": "https://localhost:8080/",
          "height": 350
        },
        "outputId": "85182bc8-04a3-47cb-bacd-ba35d0518bf8"
      },
      "cell_type": "code",
      "source": [
        "!pip3 install torch torchvision"
      ],
      "execution_count": 2,
      "outputs": [
        {
          "output_type": "stream",
          "text": [
            "Collecting torch\n",
            "\u001b[?25l  Downloading https://files.pythonhosted.org/packages/49/0e/e382bcf1a6ae8225f50b99cc26effa2d4cc6d66975ccf3fa9590efcbedce/torch-0.4.1-cp36-cp36m-manylinux1_x86_64.whl (519.5MB)\n",
            "\u001b[K    100% |████████████████████████████████| 519.5MB 28kB/s \n",
            "tcmalloc: large alloc 1073750016 bytes == 0x59062000 @  0x7f6513f9f2a4 0x594e17 0x626104 0x51190a 0x4f5277 0x510c78 0x5119bd 0x4f5277 0x4f3338 0x510fb0 0x5119bd 0x4f5277 0x4f3338 0x510fb0 0x5119bd 0x4f5277 0x4f3338 0x510fb0 0x5119bd 0x4f6070 0x510c78 0x5119bd 0x4f5277 0x4f3338 0x510fb0 0x5119bd 0x4f6070 0x4f3338 0x510fb0 0x5119bd 0x4f6070\n",
            "\u001b[?25hCollecting torchvision\n",
            "\u001b[?25l  Downloading https://files.pythonhosted.org/packages/ca/0d/f00b2885711e08bd71242ebe7b96561e6f6d01fdb4b9dcf4d37e2e13c5e1/torchvision-0.2.1-py2.py3-none-any.whl (54kB)\n",
            "\u001b[K    100% |████████████████████████████████| 61kB 20.9MB/s \n",
            "\u001b[?25hRequirement already satisfied: six in /usr/local/lib/python3.6/dist-packages (from torchvision) (1.11.0)\n",
            "Requirement already satisfied: numpy in /usr/local/lib/python3.6/dist-packages (from torchvision) (1.14.6)\n",
            "Collecting pillow>=4.1.1 (from torchvision)\n",
            "\u001b[?25l  Downloading https://files.pythonhosted.org/packages/62/94/5430ebaa83f91cc7a9f687ff5238e26164a779cca2ef9903232268b0a318/Pillow-5.3.0-cp36-cp36m-manylinux1_x86_64.whl (2.0MB)\n",
            "\u001b[K    100% |████████████████████████████████| 2.0MB 3.8MB/s \n",
            "\u001b[?25hInstalling collected packages: torch, pillow, torchvision\n",
            "\n",
            "  Found existing installation: Pillow 4.0.0\n",
            "    Uninstalling Pillow-4.0.0:\n",
            "      Successfully uninstalled Pillow-4.0.0\n",
            "Successfully installed pillow-5.3.0 torch-0.4.1 torchvision-0.2.1\n"
          ],
          "name": "stdout"
        }
      ]
    },
    {
      "metadata": {
        "id": "pMrV29cJTfSV",
        "colab_type": "code",
        "colab": {}
      },
      "cell_type": "code",
      "source": [
        "import torch\n",
        "import torch.nn as nn\n",
        "import torchvision.transforms as transforms\n",
        "import torchvision.datasets as dsets\n",
        "from torch.autograd import  Variable\n"
      ],
      "execution_count": 0,
      "outputs": []
    },
    {
      "metadata": {
        "id": "yMHkm_3FYJxx",
        "colab_type": "code",
        "colab": {}
      },
      "cell_type": "code",
      "source": [
        "# Load dataset\n",
        "# Make dataset iterable\n",
        "# create model class\n",
        "# Instantiate model class\n",
        "# Instantiate loss class\n",
        "# Instantiate optimizer class\n",
        "# Train model"
      ],
      "execution_count": 0,
      "outputs": []
    },
    {
      "metadata": {
        "id": "_k2Kd3q0ssMO",
        "colab_type": "code",
        "colab": {
          "base_uri": "https://localhost:8080/",
          "height": 208
        },
        "outputId": "e127751b-5d97-4d25-eaba-6daf5b02aefd"
      },
      "cell_type": "code",
      "source": [
        "!wget https://dl.dropboxusercontent.com/s/b3khjfddz5wpvai/alzhdset.zip?dl=0 -O alzhdset.zip;"
      ],
      "execution_count": 22,
      "outputs": [
        {
          "output_type": "stream",
          "text": [
            "--2018-10-14 09:47:56--  https://dl.dropboxusercontent.com/s/b3khjfddz5wpvai/alzhdset.zip?dl=0\n",
            "Resolving dl.dropboxusercontent.com (dl.dropboxusercontent.com)... 162.125.82.6, 2620:100:6032:6::a27d:5206\n",
            "Connecting to dl.dropboxusercontent.com (dl.dropboxusercontent.com)|162.125.82.6|:443... connected.\n",
            "HTTP request sent, awaiting response... 200 OK\n",
            "Length: 35988843 (34M) [application/zip]\n",
            "Saving to: ‘alzhdset.zip’\n",
            "\n",
            "alzhdset.zip        100%[===================>]  34.32M  8.62MB/s    in 5.0s    \n",
            "\n",
            "2018-10-14 09:48:02 (6.86 MB/s) - ‘alzhdset.zip’ saved [35988843/35988843]\n",
            "\n"
          ],
          "name": "stdout"
        }
      ]
    },
    {
      "metadata": {
        "id": "glhdqOzmyoBz",
        "colab_type": "code",
        "colab": {}
      },
      "cell_type": "code",
      "source": [
        "# !apt-get install fastjar"
      ],
      "execution_count": 0,
      "outputs": []
    },
    {
      "metadata": {
        "id": "nHvtsQD3y7a7",
        "colab_type": "code",
        "colab": {
          "base_uri": "https://localhost:8080/",
          "height": 34
        },
        "outputId": "c4bf33a8-6470-4766-e720-bdde5a45cc88"
      },
      "cell_type": "code",
      "source": [
        "!ls"
      ],
      "execution_count": 60,
      "outputs": [
        {
          "output_type": "stream",
          "text": [
            "alzhdset  alzhdset.zip\tdata  genres  sample_data\n"
          ],
          "name": "stdout"
        }
      ]
    },
    {
      "metadata": {
        "id": "GdkmCmLr-ieN",
        "colab_type": "code",
        "colab": {}
      },
      "cell_type": "code",
      "source": [
        "!unzip alzhdset.zip"
      ],
      "execution_count": 0,
      "outputs": []
    },
    {
      "metadata": {
        "id": "PYL99W5z-vDh",
        "colab_type": "code",
        "colab": {}
      },
      "cell_type": "code",
      "source": [
        "!mv \"Alzheimer's Dataset\" alzhdset"
      ],
      "execution_count": 0,
      "outputs": []
    },
    {
      "metadata": {
        "id": "0yTgbYLqI8yX",
        "colab_type": "code",
        "colab": {}
      },
      "cell_type": "code",
      "source": [
        "trans = transforms.Compose([\n",
        "    transforms.Grayscale(num_output_channels=1),\n",
        "    transforms.ToTensor()\n",
        "])"
      ],
      "execution_count": 0,
      "outputs": []
    },
    {
      "metadata": {
        "id": "6T7ACEZHDvz2",
        "colab_type": "code",
        "colab": {}
      },
      "cell_type": "code",
      "source": [
        "train_data = dsets.ImageFolder(\"./alzhdset/Train\",transform=trans)\n",
        "test_data = dsets.ImageFolder(\"./alzhdset/Test\",transform=trans)"
      ],
      "execution_count": 0,
      "outputs": []
    },
    {
      "metadata": {
        "id": "sGVuSKw5YTun",
        "colab_type": "code",
        "colab": {}
      },
      "cell_type": "code",
      "source": [
        "# Make dataset iterable\n",
        "\n",
        "\n",
        "batch_size = 64\n",
        "n_iters = 3000\n",
        "num_epochs = int(n_iters / (5121/batch_size))\n",
        "\n",
        "train_loader = torch.utils.data.DataLoader(dataset=train_data, batch_size=batch_size, shuffle=True)\n",
        "test_loader = torch.utils.data.DataLoader(dataset=test_dataset, batch_size=batch_size, shuffle=False)"
      ],
      "execution_count": 0,
      "outputs": []
    },
    {
      "metadata": {
        "id": "tYUCEcwlZUR1",
        "colab_type": "code",
        "colab": {}
      },
      "cell_type": "code",
      "source": [
        "# Conv -> Max pool -> Conv -> Max pool -> FC"
      ],
      "execution_count": 0,
      "outputs": []
    },
    {
      "metadata": {
        "id": "89ipRMUnYhmV",
        "colab_type": "code",
        "colab": {}
      },
      "cell_type": "code",
      "source": [
        "# Create Model Class\n",
        "class CNN(nn.Module):\n",
        "  def __init__(self):\n",
        "    super(CNN, self).__init__()\n",
        "    \n",
        "    # Convolution 1\n",
        "    self.cnn1 = nn.Conv2d(in_channels=1, out_channels=16, kernel_size=5, stride=1, padding=2)\n",
        "    self.relu1 = nn.ReLU()\n",
        "    \n",
        "    # Max pool 1\n",
        "    self.maxpool1 = nn.AdaptiveMaxPool2d(output_size=14)\n",
        "    \n",
        "    # Convolution 2\n",
        "    self.cnn2 = nn.Conv2d(in_channels=1, out_channels=32, kernel_size=5, stride=1, padding=2)\n",
        "    self.relu2 = nn.ReLU()\n",
        "    \n",
        "    # Max pool 2\n",
        "    self.maxpool2 = nn.AdaptiveMaxPool2d(output_size=7)\n",
        "    \n",
        "    # FC (readout)\n",
        "    self.fc1 = nn.Linear(32*7*7, 4)\n",
        "   \n",
        "    \n",
        "  def forward(self, x):\n",
        "    # Convolution 1\n",
        "    out = self.cnn1(x)\n",
        "    out = self.relu1(out)\n",
        "    \n",
        "    # Max pool 1\n",
        "    out = self.maxpool1(out)\n",
        "    \n",
        "    # Convolution 2\n",
        "    out = self.cnn2(x)\n",
        "    out = self.relu2(out)\n",
        "    \n",
        "    # Max pool 2\n",
        "    out = self.maxpool2(out)\n",
        "    \n",
        "    # Resize\n",
        "    # 100 is the batch size...\n",
        "    # (100, 32, 7, 7) -> (100, 32*7*7)\n",
        "    out = out.view(out.size(0), -1)\n",
        "    \n",
        "    # Linear (readout)\n",
        "    out = self.fc1(out)\n",
        "    \n",
        "    return out"
      ],
      "execution_count": 0,
      "outputs": []
    },
    {
      "metadata": {
        "id": "wawLshNMbReu",
        "colab_type": "code",
        "colab": {
          "base_uri": "https://localhost:8080/",
          "height": 173
        },
        "outputId": "3ac5bc72-bdf8-4dde-df3a-d9cf4b1df1e3"
      },
      "cell_type": "code",
      "source": [
        "model = CNN()\n",
        "model.cuda()"
      ],
      "execution_count": 105,
      "outputs": [
        {
          "output_type": "execute_result",
          "data": {
            "text/plain": [
              "CNN(\n",
              "  (cnn1): Conv2d(1, 16, kernel_size=(5, 5), stride=(1, 1), padding=(2, 2))\n",
              "  (relu1): ReLU()\n",
              "  (maxpool1): AdaptiveMaxPool2d(output_size=14)\n",
              "  (cnn2): Conv2d(1, 32, kernel_size=(5, 5), stride=(1, 1), padding=(2, 2))\n",
              "  (relu2): ReLU()\n",
              "  (maxpool2): AdaptiveMaxPool2d(output_size=7)\n",
              "  (fc1): Linear(in_features=1568, out_features=4, bias=True)\n",
              ")"
            ]
          },
          "metadata": {
            "tags": []
          },
          "execution_count": 105
        }
      ]
    },
    {
      "metadata": {
        "id": "OqK2XxFbbeyd",
        "colab_type": "code",
        "colab": {}
      },
      "cell_type": "code",
      "source": [
        "criterion = nn.CrossEntropyLoss()\n",
        "learning_rate = 0.01\n",
        "optimizer = torch.optim.SGD(model.parameters(), lr=learning_rate)"
      ],
      "execution_count": 0,
      "outputs": []
    },
    {
      "metadata": {
        "id": "bIYJ24LCcIdS",
        "colab_type": "code",
        "colab": {
          "base_uri": "https://localhost:8080/",
          "height": 141
        },
        "outputId": "f7ec5574-e276-4ce1-ef57-b7b7efee282d"
      },
      "cell_type": "code",
      "source": [
        "# Train the model\n",
        "\n",
        "# Convert input/labels to Variables\n",
        "# Clear gradient buffers\n",
        "# Get output given the inputs\n",
        "# Get loss\n",
        "# Get gradients w.r.t parameters\n",
        "# Update parameters using the gradients\n",
        "# Repeat\n",
        "\n",
        "import time\n",
        "tick = time.time()\n",
        "\n",
        "iter = 0\n",
        "for epoch in range(num_epochs):\n",
        "  for i, (images, labels) in enumerate(train_loader):\n",
        "    \n",
        "    \n",
        "    images = Variable(images.cuda()) # No need to resize\n",
        "    labels = Variable(labels.cuda())\n",
        "    \n",
        "    optimizer.zero_grad()\n",
        "    \n",
        "    outputs = model(images)\n",
        "    \n",
        "    loss = criterion(outputs, labels)\n",
        "    \n",
        "    loss.backward()\n",
        "    \n",
        "    optimizer.step()\n",
        "    \n",
        "    iter += 1\n",
        "    \n",
        "    if iter % 500 == 0:\n",
        "      correct = 0\n",
        "      total = 0\n",
        "      \n",
        "      for images, labels in test_loader:\n",
        "        \n",
        "        images = Variable(images.cuda())\n",
        "        \n",
        "        outputs = model(images.cuda())\n",
        "        \n",
        "        _, predicted = torch.max(outputs.data, 1)\n",
        "        \n",
        "        total += labels.size(0)\n",
        "        \n",
        "        correct += ((predicted.cpu()) == (labels.cpu())).sum().item()\n",
        "        \n",
        "      accuracy = 100 * correct / total\n",
        "      \n",
        "      print('Iteration: {}, Loss: {}, Accuracy:{}'.format(iter, loss.data[0], accuracy))\n",
        "    \n",
        "tock = time.time()    "
      ],
      "execution_count": 107,
      "outputs": [
        {
          "output_type": "stream",
          "text": [
            "/usr/local/lib/python3.6/dist-packages/ipykernel_launcher.py:43: UserWarning: invalid index of a 0-dim tensor. This will be an error in PyTorch 0.5. Use tensor.item() to convert a 0-dim tensor to a Python number\n"
          ],
          "name": "stderr"
        },
        {
          "output_type": "stream",
          "text": [
            "Iteration: 500, Loss: 1.0165202617645264, Accuracy:10.22\n",
            "Iteration: 1000, Loss: 0.9537334442138672, Accuracy:10.0\n",
            "Iteration: 1500, Loss: 0.9279415011405945, Accuracy:7.28\n",
            "Iteration: 2000, Loss: 0.7749515771865845, Accuracy:5.64\n",
            "Iteration: 2500, Loss: 0.8151682019233704, Accuracy:6.16\n"
          ],
          "name": "stdout"
        }
      ]
    },
    {
      "metadata": {
        "id": "w5Ha_q3FcrIA",
        "colab_type": "code",
        "colab": {
          "base_uri": "https://localhost:8080/",
          "height": 34
        },
        "outputId": "444b08c0-1b9b-4409-c6ed-73c39b330fa9"
      },
      "cell_type": "code",
      "source": [
        "print('Time required is', tock - tick)"
      ],
      "execution_count": 108,
      "outputs": [
        {
          "output_type": "stream",
          "text": [
            "Time required is 272.68337750434875\n"
          ],
          "name": "stdout"
        }
      ]
    },
    {
      "metadata": {
        "id": "-U2sibhggcWb",
        "colab_type": "code",
        "colab": {}
      },
      "cell_type": "code",
      "source": [
        ""
      ],
      "execution_count": 0,
      "outputs": []
    }
  ]
}